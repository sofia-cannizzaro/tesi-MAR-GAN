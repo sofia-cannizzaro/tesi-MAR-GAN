{
  "nbformat": 4,
  "nbformat_minor": 0,
  "metadata": {
    "colab": {
      "name": "model2.ipynb",
      "provenance": [],
      "collapsed_sections": [],
      "machine_shape": "hm"
    },
    "kernelspec": {
      "name": "python3",
      "display_name": "Python 3"
    },
    "language_info": {
      "name": "python"
    },
    "accelerator": "GPU"
  },
  "cells": [
    {
      "cell_type": "code",
      "metadata": {
        "id": "DLChmpEERIF5"
      },
      "source": [
        "'''Questo modello è un prototipo della rete di correzione per i sinogrammi, vengono presi in input i sinogrammi corretti da una sere non ottimale\n",
        "e vengono considerate tutte le immagini del sinogramma, nel momento in cui si pensasse di usare questa rete bisognerebbe ottenere i dataset \n",
        "per i sinogrammi di volumi corretti con la prima rete e considerare solo le immagini il cui rispetivo sinogramma della maschera ha effettivamente la maschera'''"
      ],
      "execution_count": null,
      "outputs": []
    },
    {
      "cell_type": "code",
      "metadata": {
        "id": "aXLUeb8EU-xg"
      },
      "source": [
        "import tensorflow as tf\n",
        "import os\n",
        "import time\n",
        "from matplotlib import pyplot as plt\n",
        "from IPython import display\n",
        "import numpy as np\n",
        "# Utilities for working with remote data\n",
        "import requests\n",
        "from io import BytesIO\n",
        "import zipfile\n",
        "# Image processing shortcuts\n",
        "import imageio\n",
        "import cv2\n",
        "import copy\n",
        "from imageio import get_writer\n",
        "import tensorflow as tf\n",
        "from IPython import display\n",
        "from PIL import Image\n",
        "from google.colab import files\n",
        "from google.colab.patches import cv2_imshow\n",
        "from keras.preprocessing.image import save_img"
      ],
      "execution_count": null,
      "outputs": []
    },
    {
      "cell_type": "code",
      "metadata": {
        "id": "qd5hLj8uJFnj"
      },
      "source": [
        "BUFFER_SIZE = 400\n",
        "BATCH_SIZE = 16\n"
      ],
      "execution_count": null,
      "outputs": []
    },
    {
      "cell_type": "code",
      "metadata": {
        "id": "aO9ZAGH5K3SY"
      },
      "source": [
        "#define loading of input images function:\n",
        "#load split the input image composed of: input image-real image and mask\n",
        "def load(image_file):\n",
        "  w = tf.shape(image_file)[1]\n",
        "  w = w // 3\n",
        "  real_image = image_file[:, :w, :]\n",
        "  input_image = image_file[:,w:2*w , :]\n",
        "  mask=image_file[:,2*w:,:]\n",
        "  return input_image, real_image,mask\n",
        "# normalizing the images to [0, 1]\n",
        "def normalize(input_image, real_image,mask):\n",
        "  input_image=input_image/255\n",
        "  real_image = real_image /255\n",
        "  mask = mask / 255\n",
        "  return input_image, real_image,mask\n",
        "def resize(input_image, real_image,mask, height, width):\n",
        "  input_image = tf.image.resize(input_image, [height, width],\n",
        "                                method=tf.image.ResizeMethod.NEAREST_NEIGHBOR)\n",
        "  real_image = tf.image.resize(real_image, [height, width],\n",
        "                               method=tf.image.ResizeMethod.NEAREST_NEIGHBOR)\n",
        "  mask=tf.image.resize(mask, [height, width],\n",
        "                               method=tf.image.ResizeMethod.NEAREST_NEIGHBOR)\n",
        "\n",
        "  return input_image, real_image,mask\n",
        "@tf.function()\n",
        "def load_image_train(image_file):\n",
        "  input_image, real_image,mask = load(image_file)\n",
        "  input_image, real_image,mask = resize(input_image, real_image,mask, 384,384)\n",
        "  input_image, real_image,mask = normalize(input_image, real_image,mask)\n",
        "  return input_image, real_image,mask"
      ],
      "execution_count": 32,
      "outputs": []
    },
    {
      "cell_type": "code",
      "metadata": {
        "id": "Cw6WwSK-E18H"
      },
      "source": [
        "#carico immagini per training\n",
        "ctr1 = requests.get(\n",
        "    'http://144.91.118.156/datosinobis_1.zip')\n",
        "ctzip1 = BytesIO(ctr1.content)\n",
        "ct_fdata1 = zipfile.ZipFile(ctzip1)\n",
        "proj1 = np.array(\n",
        "    [imageio.imread(ct_fdata1.open(fname)) for fname in ct_fdata1.namelist()])\n",
        "ctr2 = requests.get(\n",
        "    'http://144.91.118.156/datosinobis_2.zip')\n",
        "ctzip2 = BytesIO(ctr2.content)\n",
        "ct_fdata2 = zipfile.ZipFile(ctzip2)\n",
        "proj2 = np.array(\n",
        "    [imageio.imread(ct_fdata2.open(fname)) for fname in ct_fdata2.namelist()])\n",
        "\n",
        "ctr3 = requests.get(\n",
        "    'http://144.91.118.156/datosinobis_3.zip')\n",
        "ctzip3 = BytesIO(ctr3.content)\n",
        "ct_fdata3 = zipfile.ZipFile(ctzip3)\n",
        "proj3 = np.array(\n",
        "    [imageio.imread(ct_fdata3.open(fname)) for fname in ct_fdata3.namelist()])\n",
        "\n",
        "ctr4 = requests.get(\n",
        "    'http://144.91.118.156/datosinobis_4.zip')\n",
        "ctzip4 = BytesIO(ctr4.content)\n",
        "ct_fdata4 = zipfile.ZipFile(ctzip4)\n",
        "proj4 = np.array(\n",
        "    [imageio.imread(ct_fdata4.open(fname)) for fname in ct_fdata4.namelist()])\n",
        "\n",
        "ctr5 = requests.get(\n",
        "    'http://144.91.118.156/datosinobis_5.zip')\n",
        "ctzip5 = BytesIO(ctr5.content)\n",
        "ct_fdata5 = zipfile.ZipFile(ctzip5)\n",
        "proj5 = np.array(\n",
        "    [imageio.imread(ct_fdata5.open(fname)) for fname in ct_fdata5.namelist()])\n",
        "\n",
        "ctr6 = requests.get(\n",
        "    'http://144.91.118.156/datosinobis_6.zip')\n",
        "ctzip6 = BytesIO(ctr6.content)\n",
        "ct_fdata6 = zipfile.ZipFile(ctzip6)\n",
        "proj6 = np.array(\n",
        "    [imageio.imread(ct_fdata6.open(fname)) for fname in ct_fdata6.namelist()])\n",
        "ctr7 = requests.get(\n",
        "    'http://144.91.118.156/datosinobis_7.zip')\n",
        "ctzip7 = BytesIO(ctr7.content)\n",
        "ct_fdata7 = zipfile.ZipFile(ctzip7)\n",
        "proj7 = np.array(\n",
        "    [imageio.imread(ct_fdata7.open(fname)) for fname in ct_fdata7.namelist()])\n",
        "\n",
        "ctr8 = requests.get(\n",
        "    'http://144.91.118.156/datosinobis_8.zip')\n",
        "ctzip8 = BytesIO(ctr8.content)\n",
        "ct_fdata8 = zipfile.ZipFile(ctzip8)\n",
        "proj8 = np.array(\n",
        "    [imageio.imread(ct_fdata8.open(fname)) for fname in ct_fdata8.namelist()])\n",
        "\n",
        "ctr10 = requests.get(\n",
        "    'http://144.91.118.156/datosinobis_10.zip')\n",
        "ctzip10 = BytesIO(ctr10.content)\n",
        "ct_fdata10 = zipfile.ZipFile(ctzip10)\n",
        "proj10 = np.array(\n",
        "    [imageio.imread(ct_fdata10.open(fname)) for fname in ct_fdata10.namelist()])\n",
        "\n",
        "ctr11 = requests.get(\n",
        "    'http://144.91.118.156/datosinobis_11.zip')\n",
        "ctzip11 = BytesIO(ctr11.content)\n",
        "ct_fdata11 = zipfile.ZipFile(ctzip11)\n",
        "proj11 = np.array(\n",
        "    [imageio.imread(ct_fdata11.open(fname)) for fname in ct_fdata11.namelist()])\n",
        "\n",
        "ctr12 = requests.get(\n",
        "    'http://144.91.118.156/datosinobis_12.zip')\n",
        "ctzip12 = BytesIO(ctr12.content)\n",
        "ct_fdata12 = zipfile.ZipFile(ctzip12)\n",
        "proj12 = np.array(\n",
        "    [imageio.imread(ct_fdata12.open(fname)) for fname in ct_fdata12.namelist()])\n",
        "ctr13 = requests.get(\n",
        "    'http://144.91.118.156/datosinobis_13.zip')\n",
        "ctzip13 = BytesIO(ctr13.content)\n",
        "ct_fdata13 = zipfile.ZipFile(ctzip13)\n",
        "proj13 = np.array(\n",
        "    [imageio.imread(ct_fdata13.open(fname)) for fname in ct_fdata13.namelist()])\n",
        "\n",
        "ctr14 = requests.get(\n",
        "    'http://144.91.118.156/datosinobis_14.zip')\n",
        "ctzip14 = BytesIO(ctr14.content)\n",
        "ct_fdata14 = zipfile.ZipFile(ctzip14)\n",
        "proj14 = np.array(\n",
        "    [imageio.imread(ct_fdata14.open(fname)) for fname in ct_fdata14.namelist()])\n",
        "\n",
        "ctr15 = requests.get(\n",
        "    'http://144.91.118.156/datosinobis_15.zip')\n",
        "ctzip15 = BytesIO(ctr15.content)\n",
        "ct_fdata15 = zipfile.ZipFile(ctzip15)\n",
        "proj15 = np.array(\n",
        "    [imageio.imread(ct_fdata15.open(fname)) for fname in ct_fdata15.namelist()])\n",
        "\n",
        "ctr16 = requests.get(\n",
        "    'http://144.91.118.156/datosinobis_16.zip')\n",
        "ctzip16 = BytesIO(ctr16.content)\n",
        "ct_fdata16 = zipfile.ZipFile(ctzip16)\n",
        "proj16 = np.array(\n",
        "    [imageio.imread(ct_fdata16.open(fname)) for fname in ct_fdata16.namelist()])\n",
        "\n",
        "ctr17 = requests.get(\n",
        "    'http://144.91.118.156/datosinobis_17.zip')\n",
        "ctzip17 = BytesIO(ctr17.content)\n",
        "ct_fdata17 = zipfile.ZipFile(ctzip17)\n",
        "proj17 = np.array(\n",
        "    [imageio.imread(ct_fdata17.open(fname)) for fname in ct_fdata17.namelist()])\n",
        "\n",
        "#ctr9 = requests.get(\n",
        "   # 'http://144.91.118.156/datosino_prova.zip')\n",
        "#ctzip9 = BytesIO(ctr9.content)\n",
        "#ct_fdata9 = zipfile.ZipFile(ctzip9)\n",
        "#proj9 = np.array(\n",
        "    #[imageio.imread(ct_fdata9.open(fname)) for fname in ct_fdata9.namelist()])"
      ],
      "execution_count": 33,
      "outputs": []
    },
    {
      "cell_type": "code",
      "metadata": {
        "colab": {
          "base_uri": "https://localhost:8080/"
        },
        "id": "7ywy_OBN-wJf",
        "outputId": "9f08fa63-c7d2-4897-c6d2-a0a59b8ab754"
      },
      "source": [
        "#creation training dataset and testing\n",
        "train_data=[]\n",
        "proj1 =tf.expand_dims(proj1, axis=3)\n",
        "proj3 =tf.expand_dims(proj3, axis=3)\n",
        "proj4 =tf.expand_dims(proj4, axis=3)\n",
        "proj5 =tf.expand_dims(proj5, axis=3)\n",
        "proj2 =tf.expand_dims(proj2, axis=3)\n",
        "proj6 =tf.expand_dims(proj6, axis=3)\n",
        "proj7 =tf.expand_dims(proj7, axis=3)\n",
        "proj8 =tf.expand_dims(proj8, axis=3)\n",
        "proj17 =tf.expand_dims(proj17, axis=3)\n",
        "proj10 =tf.expand_dims(proj10, axis=3)\n",
        "proj11 =tf.expand_dims(proj11, axis=3)\n",
        "proj13 =tf.expand_dims(proj13, axis=3)\n",
        "proj12 =tf.expand_dims(proj12, axis=3)\n",
        "proj16 =tf.expand_dims(proj16, axis=3)\n",
        "proj14 =tf.expand_dims(proj14, axis=3)\n",
        "proj15 =tf.expand_dims(proj15, axis=3)\n",
        "for i in range(110):\n",
        "  j=i+100\n",
        "  train_data.append(proj1[j,:,:,:])\n",
        "  train_data.append(proj2[j,:,:,:])\n",
        "  train_data.append(proj3[j,:,:,:])\n",
        "  train_data.append(proj4[j,:,:,:])\n",
        "  train_data.append(proj5[j,:,:,:])\n",
        "  train_data.append(proj6[j,:,:,:])\n",
        "  train_data.append(proj7[j,:,:,:])\n",
        "  train_data.append(proj8[j,:,:,:])\n",
        "  train_data.append(proj10[j,:,:,:])\n",
        "  train_data.append(proj11[j,:,:,:])\n",
        "  train_data.append(proj12[j,:,:,:])\n",
        "  train_data.append(proj13[j,:,:,:])\n",
        "  train_data.append(proj14[j,:,:,:])\n",
        "  train_data.append(proj15[j,:,:,:])\n",
        "  train_data.append(proj16[j,:,:,:])\n",
        "  train_data.append(proj17[j,:,:,:])\n",
        "train_dataset = tf.data.Dataset.from_tensor_slices(train_data)\n",
        "\n",
        "train_dataset = train_dataset.map(load_image_train,\n",
        "                                  num_parallel_calls=tf.data.AUTOTUNE)\n",
        "print(train_dataset)\n",
        "\n",
        "#train_dataset\n",
        "train_dataset = train_dataset.shuffle(BUFFER_SIZE)\n",
        "train_dataset = train_dataset.batch(BATCH_SIZE)\n",
        "print(train_dataset)\n",
        "test_data=[]\n",
        "#proj1 =tf.expand_dims(proj1, axis=3)\n",
        "#for i in range(110):\n",
        " # j=i+100\n",
        "  #test_data.append(proj1[j,:,:,:])\n",
        "#test_dataset = tf.data.Dataset.from_tensor_slices(test_data)\n",
        "#test_dataset = test_dataset.map(load_image_train,\n",
        "                                 # num_parallel_calls=tf.data.AUTOTUNE)\n",
        "\n",
        "#test_dataset = test_dataset.batch(BATCH_SIZE)\n"
      ],
      "execution_count": 34,
      "outputs": [
        {
          "output_type": "stream",
          "name": "stdout",
          "text": [
            "<ParallelMapDataset shapes: ((384, 384, 1), (384, 384, 1), (384, 384, 1)), types: (tf.float32, tf.float32, tf.float32)>\n",
            "<BatchDataset shapes: ((None, 384, 384, 1), (None, 384, 384, 1), (None, 384, 384, 1)), types: (tf.float32, tf.float32, tf.float32)>\n"
          ]
        }
      ]
    },
    {
      "cell_type": "code",
      "metadata": {
        "id": "ayYZiwbMJTpn"
      },
      "source": [
        "#define upsample and downsample level\n",
        "OUTPUT_CHANNELS = 1\n",
        "\n",
        "\n",
        "def downsample(filters, size, apply_batchnorm=True):\n",
        "  initializer = tf.random_normal_initializer(0., 0.02)\n",
        "\n",
        "  result = tf.keras.Sequential()\n",
        "  result.add(\n",
        "      tf.keras.layers.Conv2D(filters, size, strides=2, padding='same',\n",
        "                             kernel_initializer=initializer, use_bias=False))\n",
        "\n",
        "  if apply_batchnorm:\n",
        "    result.add(tf.keras.layers.BatchNormalization())\n",
        "\n",
        "  result.add(tf.keras.layers.LeakyReLU())\n",
        "\n",
        "  return result\n",
        "def upsample(filters, size, apply_dropout=False):\n",
        "  initializer = tf.random_normal_initializer(0., 0.02)\n",
        "\n",
        "  result = tf.keras.Sequential()\n",
        "  result.add(tf.keras.layers.UpSampling2D(\n",
        "    size=(2, 2), data_format=None, interpolation=\"nearest\"))\n",
        "  result.add(\n",
        "    tf.keras.layers.Conv2D(filters, size, strides=1,\n",
        "                                    padding='same',\n",
        "                                    kernel_initializer=initializer,\n",
        "                                    use_bias=False))\n",
        "\n",
        "  result.add(tf.keras.layers.BatchNormalization())\n",
        "\n",
        "  if apply_dropout:\n",
        "      result.add(tf.keras.layers.Dropout(0.3))\n",
        "\n",
        "  result.add(tf.keras.layers.ReLU())\n",
        "\n",
        "  return result"
      ],
      "execution_count": null,
      "outputs": []
    },
    {
      "cell_type": "code",
      "metadata": {
        "id": "0fjDLdigLWP0"
      },
      "source": [
        "#GENERATOR model\n",
        "from keras.layers import concatenate\n",
        "def Generator():\n",
        "  dim=384  #image dimention\n",
        "  inputs = tf.keras.layers.Input(shape=[dim,dim, 1])\n",
        "  mask=tf.keras.layers.Input(shape=[dim,dim, 1])\n",
        "  s=4 #kernel size\n",
        "  down_stack = [\n",
        "    downsample(128, s,apply_batchnorm=False),  \n",
        "    downsample(128, s,apply_batchnorm=True),  \n",
        "    downsample(256, s,apply_batchnorm=True),  \n",
        "    downsample(512, s,apply_batchnorm=True),  \n",
        "    downsample(512, s,apply_batchnorm=True)\n",
        "   ]\n",
        "\n",
        "  up_stack = [\n",
        "    upsample(512, s,apply_dropout=False),  \n",
        "    upsample(256,s,apply_dropout=True),  \n",
        "    upsample(128, s,apply_dropout=True),  \n",
        "    upsample(64, s,apply_dropout=True),  \n",
        "  ]\n",
        "\n",
        "  initializer = tf.random_normal_initializer(0., 0.02)\n",
        "\n",
        "  last_1=tf.keras.layers.UpSampling2D(\n",
        "    size=(2, 2), data_format=None, interpolation=\"nearest\")\n",
        "  last=tf.keras.layers.Conv2D(OUTPUT_CHANNELS, 3,\n",
        "                                         strides=1,\n",
        "                                        padding='same',\n",
        "                                        kernel_initializer=initializer,\n",
        "                                         activation='tanh')  \n",
        "\n",
        "  #MASK PYRAMID NETWORK\n",
        "  avg_pool_1=tf.keras.layers.AveragePooling2D(pool_size=(s,s), strides=2, padding=\"same\")\n",
        "  avg_pool_2=tf.keras.layers.AveragePooling2D(pool_size=(s,s), strides=2, padding=\"same\")\n",
        "  avg_pool_3=tf.keras.layers.AveragePooling2D(pool_size=(s,s), strides=2, padding=\"same\")\n",
        "  avg_pool_4=tf.keras.layers.AveragePooling2D(pool_size=(s,s), strides=2, padding=\"same\")\n",
        "  avg_pool_5=tf.keras.layers.AveragePooling2D(pool_size=(s,s), strides=2, padding=\"same\")\n",
        "  x = inputs\n",
        "  MA=mask\n",
        "  s_1=avg_pool_1(MA)\n",
        "  s_2=avg_pool_2(s_1)\n",
        "  s_3=avg_pool_3(s_2)\n",
        "  s_4=avg_pool_4(s_3)\n",
        "  s_5=avg_pool_5(s_4)\n",
        "  s_recap=[MA,s_1,s_2,s_3,s_4,s_5]\n",
        "\n",
        " # Downsampling through the model with skip connection and mask network\n",
        "  skips = []\n",
        "  for down in down_stack:\n",
        "   ind=down_stack.index(down)+1\n",
        "   x = down(x)\n",
        "   s_new=s_recap[ind]\n",
        "   x=concatenate([x,s_new])\n",
        "   skips.append(x)\n",
        "#Upsampling\n",
        "  skips = reversed(skips[:-1])\n",
        "  for up, skip in zip(up_stack, skips):\n",
        "    x = up(x)\n",
        "    x = concatenate([x, skip])\n",
        "\n",
        "  #last upsample level\n",
        "  x=last_1(x)\n",
        "  x=last(x)\n",
        "  return tf.keras.Model(inputs=[inputs,mask], outputs=[x])"
      ],
      "execution_count": 35,
      "outputs": []
    },
    {
      "cell_type": "code",
      "metadata": {
        "id": "Tnqs3KBHLYw0"
      },
      "source": [
        "generator = Generator()\n",
        "#to show the model:\n",
        "#tf.keras.utils.plot_model(generator, show_shapes=True, dpi=64)\n",
        "#generator.summary()"
      ],
      "execution_count": 36,
      "outputs": []
    },
    {
      "cell_type": "code",
      "metadata": {
        "id": "YBsJk-UAE40b"
      },
      "source": [
        "#gener loss con mask fusion loss\n",
        "LAMBDA = 100\n",
        "def generator_loss(G_input1,ycap,target):\n",
        "\n",
        "  gan_loss=tf.reduce_mean(tf.square(G_input1))\n",
        "  l1_loss = tf.reduce_mean(tf.abs(target - ycap))\n",
        "\n",
        "  total_gen_loss = gan_loss + (LAMBDA * l1_loss)\n",
        "\n",
        "  return total_gen_loss, gan_loss, l1_loss"
      ],
      "execution_count": null,
      "outputs": []
    },
    {
      "cell_type": "code",
      "metadata": {
        "id": "lm9ToS3vJ5MI"
      },
      "source": [
        "#DISCRIMINATOR model \n",
        "def Discriminator():\n",
        "  initializer = tf.random_normal_initializer(0., 0.02)\n",
        "  dim=384  #image size\n",
        "  mask=tf.keras.layers.Input(shape=[dim, dim, 1])\n",
        "  inp = tf.keras.layers.Input(shape=[dim, dim, 1], name='input_image')\n",
        "  tar = tf.keras.layers.Input(shape=[dim, dim, 1], name='target_image')\n",
        "  \n",
        "  x = tf.keras.layers.concatenate([inp, tar])  \n",
        "  down1 = downsample(64, 4, False)(x)  \n",
        "  down2 = downsample(128, 4)(down1)  \n",
        "  down3 = downsample(256, 4)(down2)  \n",
        "\n",
        "  conv = tf.keras.layers.Conv2D(1, 3, strides=1,\n",
        "                                kernel_initializer=initializer)(down3)  # (bs, 30, 30, 1). loro 4-1 noi 3-1\n",
        "  batchnorm1 = tf.keras.layers.BatchNormalization()(conv)\n",
        "\n",
        "  last = tf.keras.layers.LeakyReLU()(batchnorm1)\n",
        "\n",
        "  #mask network\n",
        "  avg_pool_1=tf.keras.layers.AveragePooling2D(pool_size=(4, 4), strides=2, padding=\"same\")\n",
        "  avg_pool_2=tf.keras.layers.AveragePooling2D(pool_size=(4, 4), strides=2, padding=\"same\")\n",
        "  avg_pool_3=tf.keras.layers.AveragePooling2D(pool_size=(4, 4), strides=2, padding=\"same\")\n",
        "  avg_pool_4=tf.keras.layers.AveragePooling2D(pool_size=(3, 3), strides=1)\n",
        "  s=mask\n",
        "  s_1=avg_pool_1(s)\n",
        "  s_2=avg_pool_2(s_1)\n",
        "  s_3=avg_pool_3(s_2)\n",
        "  s_4=avg_pool_4(s_3)\n",
        "  return tf.keras.Model(inputs=[inp, tar,mask], outputs= [last,s_4])"
      ],
      "execution_count": 37,
      "outputs": []
    },
    {
      "cell_type": "code",
      "metadata": {
        "id": "IuSSqqnlKBqh"
      },
      "source": [
        "discriminator = Discriminator()\n",
        "#tf.keras.utils.plot_model(discriminator, show_shapes=True, dpi=64)"
      ],
      "execution_count": 38,
      "outputs": []
    },
    {
      "cell_type": "code",
      "metadata": {
        "id": "7ViRRXZTE1wO"
      },
      "source": [
        "#discriminator loss\n",
        "def discriminator_loss(D_input1,D_input2):\n",
        "\n",
        "  real_loss = tf.reduce_mean(tf.square(D_input1))\n",
        "\n",
        "  generated_loss = tf.reduce_mean(tf.square(D_input2))\n",
        "\n",
        "  total_disc_loss = real_loss + generated_loss\n",
        "\n",
        "  return total_disc_loss"
      ],
      "execution_count": null,
      "outputs": []
    },
    {
      "cell_type": "code",
      "metadata": {
        "id": "vjtPZMncynjf"
      },
      "source": [
        "generator_optimizer = tf.keras.optimizers.Adam(5e-4, beta_1=0.5)\n",
        "discriminator_optimizer = tf.keras.optimizers.Adam(5e-4, beta_1=0.5)"
      ],
      "execution_count": null,
      "outputs": []
    },
    {
      "cell_type": "code",
      "metadata": {
        "id": "IrP3sNPGyqUf"
      },
      "source": [
        "checkpoint_dir = './training_checkpoints'\n",
        "checkpoint_prefix = os.path.join(checkpoint_dir, \"ckpt\")\n",
        "checkpoint = tf.train.Checkpoint(generator_optimizer=generator_optimizer,\n",
        "                                 discriminator_optimizer=discriminator_optimizer,\n",
        "                                 generator=generator,\n",
        "                                 discriminator=discriminator)"
      ],
      "execution_count": null,
      "outputs": []
    },
    {
      "cell_type": "code",
      "metadata": {
        "id": "Zt_4MX1PMDLi"
      },
      "source": [
        "def se(imageA, imageB):\n",
        "\t# the 'Squared Error' between the two images is the\n",
        "\t# sum of the squared difference between the two images;\n",
        "\t# NOTE: the two images must have the same dimension\n",
        "  A=np.array(imageA)\n",
        "  B=np.array(imageB)\n",
        "  err = np.sum((A - B) ** 2)\n",
        "  return err"
      ],
      "execution_count": null,
      "outputs": []
    },
    {
      "cell_type": "code",
      "metadata": {
        "id": "e7N-YFhzvntd"
      },
      "source": [
        "#defining a function that generate images during the training and for testing\n",
        "def generate_images(model, test_input, tar,mask):\n",
        "\n",
        "  prediction = model([test_input,mask], training=True)\n",
        "  pred = np.array(prediction)\n",
        "  ma=tf.identity(mask) #copy\n",
        "  mas=np.array(ma)\n",
        "  inp=np.array(test_input)\n",
        "  output=np.multiply(ma,(pred+inp))+np.multiply((np.ones_like(ma)- ma),inp)\n",
        "  plt.figure(figsize=(15, 15))\n",
        "  display_list = [test_input[0], tar[0], mask[0],prediction[0],output[0]]\n",
        "  title = ['Input Image', 'Ground Truth','mask', 'Generated image','ycap']\n",
        "  for i in range(5):\n",
        "    plt.subplot(1, 5, i+1)\n",
        "    plt.title(title[i])\n",
        "    plt.imshow(display_list[i][:,:,0] * 0.5 + 0.5,cmap=plt.cm.gray)\n",
        "    plt.axis('off')\n",
        "  plt.show()\n",
        "  #defining SE error between target and output\n",
        "  err=se(display_list[1], display_list[4])\n",
        "  print(f'error={err}')\n",
        "  return err\n",
        " "
      ],
      "execution_count": 46,
      "outputs": []
    },
    {
      "cell_type": "code",
      "metadata": {
        "id": "_-osc4E1zMp5"
      },
      "source": [
        "EPOCHS = 70\n",
        "import datetime\n",
        "log_dir=\"logs/\"\n",
        "\n",
        "summary_writer = tf.summary.create_file_writer(\n",
        "  log_dir + \"fit/\" + datetime.datetime.now().strftime(\"%Y%m%d-%H%M%S\"))"
      ],
      "execution_count": 48,
      "outputs": []
    },
    {
      "cell_type": "code",
      "metadata": {
        "id": "gQ3Unh26zT1P"
      },
      "source": [
        "#LSGAN NO MASK\n",
        "@tf.function\n",
        "def train_step(input_image, target, mask, epoch):\n",
        "  with tf.GradientTape() as gen_tape, tf.GradientTape() as disc_tape:\n",
        "    gen_output = generator([input_image,mask], training=True)\n",
        "\n",
        "    disc_real_output,mask_out = discriminator([input_image, target,mask], training=True)\n",
        "    disc_generated_output,mask_out = discriminator([input_image, gen_output,mask], training=True)\n",
        "\n",
        "    gen_total_loss, gen_gan_loss, gen_l1_loss = generator_loss(disc_generated_output, gen_output, target)\n",
        "    disc_loss = discriminator_loss(disc_real_output, disc_generated_output)\n",
        "\n",
        "  generator_gradients = gen_tape.gradient(gen_total_loss,\n",
        "                                          generator.trainable_variables)\n",
        "  discriminator_gradients = disc_tape.gradient(disc_loss,\n",
        "                                               discriminator.trainable_variables)\n",
        "\n",
        "  generator_optimizer.apply_gradients(zip(generator_gradients,\n",
        "                                          generator.trainable_variables))\n",
        "  discriminator_optimizer.apply_gradients(zip(discriminator_gradients,\n",
        "                                              discriminator.trainable_variables))\n",
        "\n",
        "  with summary_writer.as_default():\n",
        "    tf.summary.scalar('gen_total_loss', gen_total_loss, step=epoch)\n",
        "    tf.summary.scalar('gen_gan_loss', gen_gan_loss, step=epoch)\n",
        "    tf.summary.scalar('gen_l1_loss', gen_l1_loss, step=epoch)\n",
        "    tf.summary.scalar('disc_loss', disc_loss, step=epoch)"
      ],
      "execution_count": 49,
      "outputs": []
    },
    {
      "cell_type": "code",
      "metadata": {
        "id": "C08sGY3lGVz9"
      },
      "source": [
        "#training con mask fusion loss\n",
        "@tf.function\n",
        "def train_step(input_image, target,mask, epoch):\n",
        "  with tf.GradientTape() as gen_tape, tf.GradientTape() as disc_tape:\n",
        "    #G(x)\n",
        "\n",
        "    G_x = generator([input_image,mask], training=True)\n",
        "    #y=target\n",
        "    #x=input_image\n",
        "    #y^\n",
        "    ycap=tf.math.multiply(mask,(G_x+input_image))+tf.math.multiply((tf.ones_like(mask)- mask),input_image)\n",
        "    #D(y^)\n",
        "    D_ycap,N_mask=discriminator([input_image,ycap,mask],training=True)\n",
        "    #D(y)\n",
        "    D_y,N_mask= discriminator([input_image, target,mask], training=True)\n",
        "    #N(s)x(1-D(y^))\n",
        "    G_input1=tf.math.multiply(N_mask,tf.ones_like(D_ycap)-D_ycap)\n",
        "    #N(s)x(1-D(y))\n",
        "    D_input1=tf.math.multiply(N_mask,tf.ones_like(D_y)-D_y)\n",
        "    #N(s)x(D(y^))\n",
        "    D_input2=tf.math.multiply(N_mask,D_ycap)\n",
        "    gen_total_loss, gen_gan_loss, gen_l1_loss = generator_loss(G_input1, ycap,target)\n",
        "    disc_loss = discriminator_loss(D_input1,D_input2)\n",
        "\n",
        "  generator_gradients = gen_tape.gradient(gen_total_loss,\n",
        "                                          generator.trainable_variables)\n",
        "  discriminator_gradients = disc_tape.gradient(disc_loss,\n",
        "                                               discriminator.trainable_variables)\n",
        "\n",
        "  generator_optimizer.apply_gradients(zip(generator_gradients,\n",
        "                                          generator.trainable_variables))\n",
        "  discriminator_optimizer.apply_gradients(zip(discriminator_gradients,\n",
        "                                              discriminator.trainable_variables))\n",
        "\n",
        "  with summary_writer.as_default():\n",
        "    tf.summary.scalar('gen_total_loss', gen_total_loss, step=epoch)\n",
        "    tf.summary.scalar('gen_gan_loss', gen_gan_loss, step=epoch)\n",
        "    tf.summary.scalar('gen_l1_loss', gen_l1_loss, step=epoch)\n",
        "    tf.summary.scalar('disc_loss', disc_loss, step=epoch)"
      ],
      "execution_count": 50,
      "outputs": []
    },
    {
      "cell_type": "code",
      "metadata": {
        "id": "DpvUwCfIzqSq"
      },
      "source": [
        "error=[]\n",
        "def fit(train_ds, epochs, test_ds):\n",
        "  for epoch in range(epochs):\n",
        "    start = time.time()\n",
        "    display.clear_output(wait=True)\n",
        "    for example_input, example_target,example_mask in test_ds.take(1):\n",
        "      #showing at every epoch an example of the output and the correspondent SE error\n",
        "      err=generate_images(generator, example_input, example_target,example_mask)\n",
        "      error.append(err)\n",
        "    print(\"Epoch: \", epoch)\n",
        "    #save the difference of error between each epoch\n",
        "    differr=abs(np.diff(error[-6:]))\n",
        "    #from epoch 6 stop the training if the error don't change of more than 0.01 in the last 5 epochs:\n",
        "    if ((epoch>5) and (all(i<0.01 for i in differr))):\n",
        "         break\n",
        "    # Train\n",
        "    for n, (input_image, target,mask) in train_ds.enumerate():\n",
        "      print('.', end='')\n",
        "      if (n+1) % 100 == 0:\n",
        "        print()\n",
        "      train_step(input_image, target, mask,epoch)\n",
        "    print()\n",
        "    # saving (checkpoint) the model every 20 epochs\n",
        "    if (epoch + 1) % 20 == 0:\n",
        "      checkpoint.save(file_prefix=checkpoint_prefix)\n",
        "\n",
        "    print ('Time taken for epoch {} is {} sec\\n'.format(epoch + 1,\n",
        "                                                        time.time()-start))\n",
        "  checkpoint.save(file_prefix=checkpoint_prefix)"
      ],
      "execution_count": 52,
      "outputs": []
    },
    {
      "cell_type": "code",
      "metadata": {
        "colab": {
          "base_uri": "https://localhost:8080/",
          "height": 549
        },
        "id": "OdbULtysz0u2",
        "outputId": "db515a1f-d89d-4c2d-9832-1d140a0f02e0"
      },
      "source": [
        "test_dataset=train_dataset\n",
        "fit(train_dataset, EPOCHS, test_dataset)"
      ],
      "execution_count": 53,
      "outputs": [
        {
          "output_type": "display_data",
          "data": {
            "image/png": "[encoded data removed]",
            "text/plain": [
              "<Figure size 1080x1080 with 5 Axes>"
            ]
          },
          "metadata": {
            "needs_background": "light"
          }
        },
        {
          "output_type": "stream",
          "name": "stdout",
          "text": [
            "error=0.0\n",
            "Epoch:  3\n",
            "..........."
          ]
        },
        {
          "output_type": "error",
          "ename": "KeyboardInterrupt",
          "evalue": "ignored",
          "traceback": [
            "\u001b[0;31m---------------------------------------------------------------------------\u001b[0m",
            "\u001b[0;31mKeyboardInterrupt\u001b[0m                         Traceback (most recent call last)",
            "\u001b[0;32m<ipython-input-53-8c50536ce39c>\u001b[0m in \u001b[0;36m<module>\u001b[0;34m()\u001b[0m\n\u001b[1;32m      1\u001b[0m \u001b[0mtest_dataset\u001b[0m\u001b[0;34m=\u001b[0m\u001b[0mtrain_dataset\u001b[0m\u001b[0;34m\u001b[0m\u001b[0;34m\u001b[0m\u001b[0m\n\u001b[0;32m----> 2\u001b[0;31m \u001b[0mfit\u001b[0m\u001b[0;34m(\u001b[0m\u001b[0mtrain_dataset\u001b[0m\u001b[0;34m,\u001b[0m \u001b[0mEPOCHS\u001b[0m\u001b[0;34m,\u001b[0m \u001b[0mtest_dataset\u001b[0m\u001b[0;34m)\u001b[0m\u001b[0;34m\u001b[0m\u001b[0;34m\u001b[0m\u001b[0m\n\u001b[0m",
            "\u001b[0;32m<ipython-input-52-847bb1462f6b>\u001b[0m in \u001b[0;36mfit\u001b[0;34m(train_ds, epochs, test_ds)\u001b[0m\n\u001b[1;32m     17\u001b[0m     \u001b[0;32mfor\u001b[0m \u001b[0mn\u001b[0m\u001b[0;34m,\u001b[0m \u001b[0;34m(\u001b[0m\u001b[0minput_image\u001b[0m\u001b[0;34m,\u001b[0m \u001b[0mtarget\u001b[0m\u001b[0;34m,\u001b[0m\u001b[0mmask\u001b[0m\u001b[0;34m)\u001b[0m \u001b[0;32min\u001b[0m \u001b[0mtrain_ds\u001b[0m\u001b[0;34m.\u001b[0m\u001b[0menumerate\u001b[0m\u001b[0;34m(\u001b[0m\u001b[0;34m)\u001b[0m\u001b[0;34m:\u001b[0m\u001b[0;34m\u001b[0m\u001b[0;34m\u001b[0m\u001b[0m\n\u001b[1;32m     18\u001b[0m       \u001b[0mprint\u001b[0m\u001b[0;34m(\u001b[0m\u001b[0;34m'.'\u001b[0m\u001b[0;34m,\u001b[0m \u001b[0mend\u001b[0m\u001b[0;34m=\u001b[0m\u001b[0;34m''\u001b[0m\u001b[0;34m)\u001b[0m\u001b[0;34m\u001b[0m\u001b[0;34m\u001b[0m\u001b[0m\n\u001b[0;32m---> 19\u001b[0;31m       \u001b[0;32mif\u001b[0m \u001b[0;34m(\u001b[0m\u001b[0mn\u001b[0m\u001b[0;34m+\u001b[0m\u001b[0;36m1\u001b[0m\u001b[0;34m)\u001b[0m \u001b[0;34m%\u001b[0m \u001b[0;36m100\u001b[0m \u001b[0;34m==\u001b[0m \u001b[0;36m0\u001b[0m\u001b[0;34m:\u001b[0m\u001b[0;34m\u001b[0m\u001b[0;34m\u001b[0m\u001b[0m\n\u001b[0m\u001b[1;32m     20\u001b[0m         \u001b[0mprint\u001b[0m\u001b[0;34m(\u001b[0m\u001b[0;34m)\u001b[0m\u001b[0;34m\u001b[0m\u001b[0;34m\u001b[0m\u001b[0m\n\u001b[1;32m     21\u001b[0m       \u001b[0mtrain_step\u001b[0m\u001b[0;34m(\u001b[0m\u001b[0minput_image\u001b[0m\u001b[0;34m,\u001b[0m \u001b[0mtarget\u001b[0m\u001b[0;34m,\u001b[0m \u001b[0mmask\u001b[0m\u001b[0;34m,\u001b[0m\u001b[0mepoch\u001b[0m\u001b[0;34m)\u001b[0m\u001b[0;34m\u001b[0m\u001b[0;34m\u001b[0m\u001b[0m\n",
            "\u001b[0;32m/usr/local/lib/python3.7/dist-packages/tensorflow/python/ops/math_ops.py\u001b[0m in \u001b[0;36mbinary_op_wrapper\u001b[0;34m(x, y)\u001b[0m\n\u001b[1;32m   1365\u001b[0m         \u001b[0;31m#   r_binary_op_wrapper use different force_same_dtype values.\u001b[0m\u001b[0;34m\u001b[0m\u001b[0;34m\u001b[0m\u001b[0;34m\u001b[0m\u001b[0m\n\u001b[1;32m   1366\u001b[0m         \u001b[0mx\u001b[0m\u001b[0;34m,\u001b[0m \u001b[0my\u001b[0m \u001b[0;34m=\u001b[0m \u001b[0mmaybe_promote_tensors\u001b[0m\u001b[0;34m(\u001b[0m\u001b[0mx\u001b[0m\u001b[0;34m,\u001b[0m \u001b[0my\u001b[0m\u001b[0;34m,\u001b[0m \u001b[0mforce_same_dtype\u001b[0m\u001b[0;34m=\u001b[0m\u001b[0;32mFalse\u001b[0m\u001b[0;34m)\u001b[0m\u001b[0;34m\u001b[0m\u001b[0;34m\u001b[0m\u001b[0m\n\u001b[0;32m-> 1367\u001b[0;31m         \u001b[0;32mreturn\u001b[0m \u001b[0mfunc\u001b[0m\u001b[0;34m(\u001b[0m\u001b[0mx\u001b[0m\u001b[0;34m,\u001b[0m \u001b[0my\u001b[0m\u001b[0;34m,\u001b[0m \u001b[0mname\u001b[0m\u001b[0;34m=\u001b[0m\u001b[0mname\u001b[0m\u001b[0;34m)\u001b[0m\u001b[0;34m\u001b[0m\u001b[0;34m\u001b[0m\u001b[0m\n\u001b[0m\u001b[1;32m   1368\u001b[0m       \u001b[0;32mexcept\u001b[0m \u001b[0;34m(\u001b[0m\u001b[0mTypeError\u001b[0m\u001b[0;34m,\u001b[0m \u001b[0mValueError\u001b[0m\u001b[0;34m)\u001b[0m \u001b[0;32mas\u001b[0m \u001b[0me\u001b[0m\u001b[0;34m:\u001b[0m\u001b[0;34m\u001b[0m\u001b[0;34m\u001b[0m\u001b[0m\n\u001b[1;32m   1369\u001b[0m         \u001b[0;31m# Even if dispatching the op failed, the RHS may be a tensor aware\u001b[0m\u001b[0;34m\u001b[0m\u001b[0;34m\u001b[0m\u001b[0;34m\u001b[0m\u001b[0m\n",
            "\u001b[0;32m/usr/local/lib/python3.7/dist-packages/tensorflow/python/util/dispatch.py\u001b[0m in \u001b[0;36mwrapper\u001b[0;34m(*args, **kwargs)\u001b[0m\n\u001b[1;32m    204\u001b[0m     \u001b[0;34m\"\"\"Call target, and fall back on dispatchers if there is a TypeError.\"\"\"\u001b[0m\u001b[0;34m\u001b[0m\u001b[0;34m\u001b[0m\u001b[0m\n\u001b[1;32m    205\u001b[0m     \u001b[0;32mtry\u001b[0m\u001b[0;34m:\u001b[0m\u001b[0;34m\u001b[0m\u001b[0;34m\u001b[0m\u001b[0m\n\u001b[0;32m--> 206\u001b[0;31m       \u001b[0;32mreturn\u001b[0m \u001b[0mtarget\u001b[0m\u001b[0;34m(\u001b[0m\u001b[0;34m*\u001b[0m\u001b[0margs\u001b[0m\u001b[0;34m,\u001b[0m \u001b[0;34m**\u001b[0m\u001b[0mkwargs\u001b[0m\u001b[0;34m)\u001b[0m\u001b[0;34m\u001b[0m\u001b[0;34m\u001b[0m\u001b[0m\n\u001b[0m\u001b[1;32m    207\u001b[0m     \u001b[0;32mexcept\u001b[0m \u001b[0;34m(\u001b[0m\u001b[0mTypeError\u001b[0m\u001b[0;34m,\u001b[0m \u001b[0mValueError\u001b[0m\u001b[0;34m)\u001b[0m\u001b[0;34m:\u001b[0m\u001b[0;34m\u001b[0m\u001b[0;34m\u001b[0m\u001b[0m\n\u001b[1;32m    208\u001b[0m       \u001b[0;31m# Note: convert_to_eager_tensor currently raises a ValueError, not a\u001b[0m\u001b[0;34m\u001b[0m\u001b[0;34m\u001b[0m\u001b[0;34m\u001b[0m\u001b[0m\n",
            "\u001b[0;32m/usr/local/lib/python3.7/dist-packages/tensorflow/python/ops/math_ops.py\u001b[0m in \u001b[0;36m_add_dispatch\u001b[0;34m(x, y, name)\u001b[0m\n\u001b[1;32m   1698\u001b[0m     \u001b[0;32mreturn\u001b[0m \u001b[0mgen_math_ops\u001b[0m\u001b[0;34m.\u001b[0m\u001b[0madd\u001b[0m\u001b[0;34m(\u001b[0m\u001b[0mx\u001b[0m\u001b[0;34m,\u001b[0m \u001b[0my\u001b[0m\u001b[0;34m,\u001b[0m \u001b[0mname\u001b[0m\u001b[0;34m=\u001b[0m\u001b[0mname\u001b[0m\u001b[0;34m)\u001b[0m\u001b[0;34m\u001b[0m\u001b[0;34m\u001b[0m\u001b[0m\n\u001b[1;32m   1699\u001b[0m   \u001b[0;32melse\u001b[0m\u001b[0;34m:\u001b[0m\u001b[0;34m\u001b[0m\u001b[0;34m\u001b[0m\u001b[0m\n\u001b[0;32m-> 1700\u001b[0;31m     \u001b[0;32mreturn\u001b[0m \u001b[0mgen_math_ops\u001b[0m\u001b[0;34m.\u001b[0m\u001b[0madd_v2\u001b[0m\u001b[0;34m(\u001b[0m\u001b[0mx\u001b[0m\u001b[0;34m,\u001b[0m \u001b[0my\u001b[0m\u001b[0;34m,\u001b[0m \u001b[0mname\u001b[0m\u001b[0;34m=\u001b[0m\u001b[0mname\u001b[0m\u001b[0;34m)\u001b[0m\u001b[0;34m\u001b[0m\u001b[0;34m\u001b[0m\u001b[0m\n\u001b[0m\u001b[1;32m   1701\u001b[0m \u001b[0;34m\u001b[0m\u001b[0m\n\u001b[1;32m   1702\u001b[0m \u001b[0;34m\u001b[0m\u001b[0m\n",
            "\u001b[0;32m/usr/local/lib/python3.7/dist-packages/tensorflow/python/ops/gen_math_ops.py\u001b[0m in \u001b[0;36madd_v2\u001b[0;34m(x, y, name)\u001b[0m\n\u001b[1;32m    450\u001b[0m     \u001b[0;32mtry\u001b[0m\u001b[0;34m:\u001b[0m\u001b[0;34m\u001b[0m\u001b[0;34m\u001b[0m\u001b[0m\n\u001b[1;32m    451\u001b[0m       _result = pywrap_tfe.TFE_Py_FastPathExecute(\n\u001b[0;32m--> 452\u001b[0;31m         _ctx, \"AddV2\", name, x, y)\n\u001b[0m\u001b[1;32m    453\u001b[0m       \u001b[0;32mreturn\u001b[0m \u001b[0m_result\u001b[0m\u001b[0;34m\u001b[0m\u001b[0;34m\u001b[0m\u001b[0m\n\u001b[1;32m    454\u001b[0m     \u001b[0;32mexcept\u001b[0m \u001b[0m_core\u001b[0m\u001b[0;34m.\u001b[0m\u001b[0m_NotOkStatusException\u001b[0m \u001b[0;32mas\u001b[0m \u001b[0me\u001b[0m\u001b[0;34m:\u001b[0m\u001b[0;34m\u001b[0m\u001b[0;34m\u001b[0m\u001b[0m\n",
            "\u001b[0;31mKeyboardInterrupt\u001b[0m: "
          ]
        }
      ]
    },
    {
      "cell_type": "code",
      "metadata": {
        "colab": {
          "base_uri": "https://localhost:8080/"
        },
        "id": "5CTzRhFNYswK",
        "outputId": "27e3fe9f-8a45-4b35-d428-998ceb8493f4"
      },
      "source": [
        "#saving of the model if using google colab\n",
        "#tf.keras.models.save_model(\n",
        " #   generator, 'modelproj.h5', overwrite=True, include_optimizer=True, save_format=None,\n",
        " #   signatures=None, options=None, save_traces=True)\n",
        "#files.download('modelproj.h5')"
      ],
      "execution_count": null,
      "outputs": [
        {
          "output_type": "stream",
          "text": [
            "WARNING:tensorflow:Compiled the loaded model, but the compiled metrics have yet to be built. `model.compile_metrics` will be empty until you train or evaluate the model.\n"
          ],
          "name": "stdout"
        }
      ]
    },
    {
      "cell_type": "code",
      "metadata": {
        "colab": {
          "base_uri": "https://localhost:8080/",
          "height": 34
        },
        "id": "ku1MppGCZHnS",
        "outputId": "5c0c9bd3-3158-4577-b401-d498702097b9"
      },
      "source": [
        "#saving the loss on tensorboard \n",
        "#!tensorboard dev upload --logdir  {log_dir}   --name \"modelproj23\""
      ],
      "execution_count": null,
      "outputs": [
        {
          "output_type": "display_data",
          "data": {
            "application/javascript": [
              "\n",
              "    async function download(id, filename, size) {\n",
              "      if (!google.colab.kernel.accessAllowed) {\n",
              "        return;\n",
              "      }\n",
              "      const div = document.createElement('div');\n",
              "      const label = document.createElement('label');\n",
              "      label.textContent = `Downloading \"${filename}\": `;\n",
              "      div.appendChild(label);\n",
              "      const progress = document.createElement('progress');\n",
              "      progress.max = size;\n",
              "      div.appendChild(progress);\n",
              "      document.body.appendChild(div);\n",
              "\n",
              "      const buffers = [];\n",
              "      let downloaded = 0;\n",
              "\n",
              "      const channel = await google.colab.kernel.comms.open(id);\n",
              "      // Send a message to notify the kernel that we're ready.\n",
              "      channel.send({})\n",
              "\n",
              "      for await (const message of channel.messages) {\n",
              "        // Send a message to notify the kernel that we're ready.\n",
              "        channel.send({})\n",
              "        if (message.buffers) {\n",
              "          for (const buffer of message.buffers) {\n",
              "            buffers.push(buffer);\n",
              "            downloaded += buffer.byteLength;\n",
              "            progress.value = downloaded;\n",
              "          }\n",
              "        }\n",
              "      }\n",
              "      const blob = new Blob(buffers, {type: 'application/binary'});\n",
              "      const a = document.createElement('a');\n",
              "      a.href = window.URL.createObjectURL(blob);\n",
              "      a.download = filename;\n",
              "      div.appendChild(a);\n",
              "      a.click();\n",
              "      div.remove();\n",
              "    }\n",
              "  "
            ],
            "text/plain": [
              "<IPython.core.display.Javascript object>"
            ]
          },
          "metadata": {
            "tags": []
          }
        },
        {
          "output_type": "display_data",
          "data": {
            "application/javascript": [
              "download(\"download_6f9ef996-b259-40eb-b676-19ca911cbe1a\", \"modelsinobis.h5\", 43675140)"
            ],
            "text/plain": [
              "<IPython.core.display.Javascript object>"
            ]
          },
          "metadata": {
            "tags": []
          }
        }
      ]
    }
  ]
}